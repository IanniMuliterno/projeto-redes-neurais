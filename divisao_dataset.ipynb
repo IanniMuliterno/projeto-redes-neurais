{
 "cells": [
  {
   "cell_type": "markdown",
   "metadata": {},
   "source": [
    "# Projeto Introdução a Redes Neurais\n",
    "\n",
    "**Equipe:**\n",
    "- Eduardo Luiz\n",
    "- Ianní\n",
    "- Tu Chin\n",
    "- Wellington Barbosa de Almeida - <wba@cin.ufpe.br>\n",
    "\n",
    "**Professor:** Germano Crispim Vasconcelos\n",
    "\n",
    "**Objetivo:**\n",
    "> Realizar um estudo experimental sobre a aplicação de modelos de redes neurais em um problema do mundo real.\n",
    "\n",
    "**Problema**\n",
    "> Análise de Risco de Crédito, Com base no perfil de clientes, decidir a quem conceder crédito (risco de inadimplência) \n",
    "\n",
    "## Etapa 1 - Divisão da base de dados:"
   ]
  },
  {
   "cell_type": "markdown",
   "metadata": {
    "collapsed": true
   },
   "source": [
    "## Base de dados\n",
    "\n",
    "[Análise de Risco de Crédito](http://www.cin.ufpe.br/~gcv/web_lci/TRN) (+-400K Registros para Treinamento e +-130K Registros para Teste). Tamanho: 731 MB "
   ]
  },
  {
   "cell_type": "markdown",
   "metadata": {},
   "source": [
    "Importando os modulos básicos"
   ]
  },
  {
   "cell_type": "code",
   "execution_count": 1,
   "metadata": {
    "collapsed": true
   },
   "outputs": [],
   "source": [
    "import numpy as np\n",
    "import scipy as sp\n",
    "import pandas as pd\n",
    "import csv"
   ]
  },
  {
   "cell_type": "markdown",
   "metadata": {},
   "source": [
    "Antes de seguir para o próximo passo, lembre de realizar o download da base de dados na pasta `/data` e executar o script python para converte-la para `csv`"
   ]
  },
  {
   "cell_type": "markdown",
   "metadata": {},
   "source": [
    "Convertendo em um [dataframe pandas](https://pandas.pydata.org/pandas-docs/stable/generated/pandas.DataFrame.html)"
   ]
  },
  {
   "cell_type": "code",
   "execution_count": 2,
   "metadata": {
    "collapsed": false
   },
   "outputs": [
    {
     "data": {
      "text/plain": [
       "<bound method NDFrame.head of              0  1  1.1  1.2  0.1  0.2  0.3  0.4  0.135097920813897  1.3  ...   \\\n",
       "0            1  1    0    1    0    0    1    0       2.735041e-01    1  ...    \n",
       "1            2  1    0    1    0    0    1    0       2.819095e-01    0  ...    \n",
       "2            3  1    1    1    0    0    0    0       2.257406e-01    0  ...    \n",
       "3            4  1    1    0    0    0    1    0       4.804034e-01    0  ...    \n",
       "4            5  0    1    1    0    0    0    1       2.193229e-01    0  ...    \n",
       "5            6  1    1    1    0    0    0    0       5.734882e-01    0  ...    \n",
       "6            7  0    1    0    0    1    0    1       8.343982e-01    1  ...    \n",
       "7            8  1    1    0    1    0    0    0       3.474494e-01    1  ...    \n",
       "8            9  1    1    1    0    0    0    0       5.506237e-16    1  ...    \n",
       "9           10  1    0    1    1    0    0    0       6.547031e-01    0  ...    \n",
       "10          11  1    1    1    0    0    0    0       9.744373e-02    1  ...    \n",
       "11          12  1    0    1    0    1    0    0       3.989613e-01    0  ...    \n",
       "12          13  1    0    0    0    0    1    1       2.292618e-01    1  ...    \n",
       "13          14  0    1    1    0    0    0    1       7.296139e-01    1  ...    \n",
       "14          15  1    1    0    0    0    1    0       7.586923e-01    0  ...    \n",
       "15          16  0    1    0    0    1    1    0       5.365155e-01    1  ...    \n",
       "16          17  1    1    1    0    0    0    0       1.422539e-01    0  ...    \n",
       "17          18  1    1    0    0    0    0    1       4.195632e-02    1  ...    \n",
       "18          19  1    1    0    1    0    0    0       2.385760e-01    1  ...    \n",
       "19          20  1    1    0    1    0    0    0       6.191503e-01    1  ...    \n",
       "20          21  0    1    1    1    0    0    0       7.718116e-01    0  ...    \n",
       "21          22  1    1    0    0    0    0    1       1.607687e-01    1  ...    \n",
       "22          23  1    1    0    1    0    0    0       5.235097e-01    0  ...    \n",
       "23          24  1    1    0    0    0    1    0       4.912509e-01    0  ...    \n",
       "24          25  0    1    1    1    0    0    0       9.072645e-01    0  ...    \n",
       "25          26  1    1    1    0    0    0    0       1.350979e-01    0  ...    \n",
       "26          27  1    1    1    0    0    0    0       3.570902e-02    1  ...    \n",
       "27          28  1    0    1    1    0    0    0       3.539239e-01    0  ...    \n",
       "28          29  1    0    0    0    1    1    0       6.862804e-01    1  ...    \n",
       "29          30  1    1    1    0    0    0    0       9.008468e-01    1  ...    \n",
       "...        ... ..  ...  ...  ...  ...  ...  ...                ...  ...  ...    \n",
       "389165  389166  1    1    1    0    0    0    0       8.184960e-01    1  ...    \n",
       "389166  389167  1    1    1    0    0    0    0       5.314041e-01    1  ...    \n",
       "389167  389168  1    1    1    0    0    0    0       4.825615e-01    1  ...    \n",
       "389168  389169  1    0    1    0    0    1    0       1.705940e-01    0  ...    \n",
       "389169  389170  1    0    1    0    0    1    0       5.353796e-01    0  ...    \n",
       "389170  389171  1    1    0    0    1    0    0       6.656075e-01    0  ...    \n",
       "389171  389172  1    1    1    0    0    0    0       2.524904e-01    1  ...    \n",
       "389172  389173  1    1    0    0    1    0    0       6.401639e-01    0  ...    \n",
       "389173  389174  1    1    0    0    0    1    0       3.553437e-01    1  ...    \n",
       "389174  389175  1    1    1    0    0    0    0       3.156308e-02    0  ...    \n",
       "389175  389176  1    1    0    0    0    1    0       9.426328e-02    1  ...    \n",
       "389176  389177  1    0    1    0    1    0    0       8.249137e-01    0  ...    \n",
       "389177  389178  1    1    1    0    0    0    0       7.454026e-01    0  ...    \n",
       "389178  389179  1    0    0    1    1    0    0       2.188118e-01    0  ...    \n",
       "389179  389180  1    1    0    0    1    0    0       7.340438e-01    1  ...    \n",
       "389180  389181  1    1    0    0    0    0    1       5.328807e-01    1  ...    \n",
       "389181  389182  1    1    1    0    0    0    0       1.928003e-01    1  ...    \n",
       "389182  389183  1    1    1    0    0    0    0       1.148226e-01    1  ...    \n",
       "389183  389184  1    0    1    0    0    0    1       2.329534e-01    1  ...    \n",
       "389184  389185  1    1    1    0    0    0    0       2.744696e-01    0  ...    \n",
       "389185  389186  1    1    0    0    1    0    0       4.874458e-01    1  ...    \n",
       "389186  389187  1    1    0    0    0    1    0       9.168626e-01    0  ...    \n",
       "389187  389188  1    1    1    0    0    0    0       6.460137e-01    1  ...    \n",
       "389188  389189  1    1    0    0    0    1    0       7.217196e-01    0  ...    \n",
       "389189  389190  0    1    1    0    1    0    0       4.209972e-01    1  ...    \n",
       "389190  389191  1    1    0    0    0    0    1       7.878274e-01    1  ...    \n",
       "389191  389192  1    0    1    0    0    0    1       4.700101e-01    1  ...    \n",
       "389192  389193  0    1    0    1    0    0    1       4.360475e-01    0  ...    \n",
       "389193  389194  1    0    1    0    1    0    0       6.778749e-01    0  ...    \n",
       "389194  389195  1    1    0    0    1    0    0       6.905399e-01    0  ...    \n",
       "\n",
       "        0.100  0.101  1.31  1.32  0.102  1.33  1.34  1.35  0.103  1.36  \n",
       "0           0      1     0     1      1     0     0     0      1     0  \n",
       "1           1      1     0     0      0     0     1     0      1     0  \n",
       "2           1      1     0     1      1     0     1     0      1     0  \n",
       "3           1      1     1     0      0     1     0     1      1     0  \n",
       "4           0      1     1     0      1     0     0     1      1     0  \n",
       "5           0      0     0     1      1     0     0     0      1     0  \n",
       "6           0      1     0     0      0     1     1     1      1     0  \n",
       "7           1      0     0     0      1     0     1     1      1     0  \n",
       "8           1      1     0     0      0     1     0     0      1     0  \n",
       "9           0      1     0     1      0     0     0     0      0     1  \n",
       "10          0      1     0     1      0     1     0     1      0     1  \n",
       "11          1      1     1     0      1     0     0     0      0     1  \n",
       "12          0      0     0     0      1     0     0     1      1     0  \n",
       "13          1      0     0     1      1     0     1     1      1     0  \n",
       "14          1      0     0     0      1     0     1     1      1     0  \n",
       "15          1      0     0     0      1     1     1     0      1     0  \n",
       "16          1      0     0     1      0     1     0     1      0     1  \n",
       "17          0      1     0     0      0     1     0     1      1     0  \n",
       "18          0      0     0     1      0     1     1     1      1     0  \n",
       "19          0      0     0     1      0     1     1     1      1     0  \n",
       "20          0      1     1     1      0     0     0     0      1     0  \n",
       "21          1      1     0     0      1     0     0     0      1     0  \n",
       "22          1      0     0     0      1     0     1     1      1     0  \n",
       "23          0      1     1     0      1     0     0     0      1     0  \n",
       "24          1      1     0     0      1     1     0     0      1     0  \n",
       "25          0      0     1     1      0     0     1     0      1     0  \n",
       "26          0      0     1     0      1     1     0     0      0     1  \n",
       "27          0      1     0     0      0     1     0     1      0     1  \n",
       "28          0      1     1     1      0     0     0     0      1     0  \n",
       "29          0      0     1     0      0     1     0     1      1     0  \n",
       "...       ...    ...   ...   ...    ...   ...   ...   ...    ...   ...  \n",
       "389165      0      1     0     1      0     1     0     1      1     0  \n",
       "389166      1      1     1     0      0     0     0     1      1     0  \n",
       "389167      0      0     0     1      1     0     1     0      0     1  \n",
       "389168      1      0     0     0      0     1     1     1      0     1  \n",
       "389169      0      1     0     0      0     1     1     0      1     0  \n",
       "389170      0      1     1     0      1     1     0     0      1     0  \n",
       "389171      1      0     1     1      0     1     0     0      0     1  \n",
       "389172      0      0     0     1      1     0     0     1      0     1  \n",
       "389173      0      0     0     1      0     1     0     0      1     0  \n",
       "389174      1      0     1     1      1     0     1     0      1     0  \n",
       "389175      0      0     0     1      1     0     0     1      0     1  \n",
       "389176      1      1     1     0      0     1     0     0      1     0  \n",
       "389177      0      0     0     1      1     1     0     0      1     0  \n",
       "389178      1      0     0     1      0     0     1     0      0     1  \n",
       "389179      0      0     1     1      1     0     1     0      1     0  \n",
       "389180      0      0     1     1      0     1     0     0      0     1  \n",
       "389181      0      1     1     0      0     1     0     0      1     0  \n",
       "389182      1      0     1     1      0     0     0     1      1     0  \n",
       "389183      0      1     0     0      0     1     1     1      0     1  \n",
       "389184      1      0     1     0      1     0     1     0      0     1  \n",
       "389185      1      1     1     1      0     1     0     0      1     0  \n",
       "389186      0      0     0     0      1     1     1     1      1     0  \n",
       "389187      0      1     0     1      1     0     0     0      1     0  \n",
       "389188      0      0     0     1      0     0     1     1      0     1  \n",
       "389189      1      1     0     0      1     0     1     1      1     0  \n",
       "389190      0      1     1     1      1     1     0     1      0     1  \n",
       "389191      1      0     1     0      1     0     1     1      1     0  \n",
       "389192      1      0     0     1      0     1     1     0      0     1  \n",
       "389193      0      1     0     0      0     1     1     1      1     0  \n",
       "389194      1      1     0     0      0     1     1     0      1     0  \n",
       "\n",
       "[389195 rows x 246 columns]>"
      ]
     },
     "execution_count": 2,
     "metadata": {},
     "output_type": "execute_result"
    }
   ],
   "source": [
    "data_set = pd.read_csv(\"data/trn.csv\", sep=',', header=1, low_memory=False)"
   ]
  },
  {
   "cell_type": "code",
   "execution_count": 3,
   "metadata": {
    "collapsed": true
   },
   "outputs": [],
   "source": [
    "from sklearn.model_selection import KFold"
   ]
  },
  {
   "cell_type": "code",
   "execution_count": null,
   "metadata": {
    "collapsed": true
   },
   "outputs": [],
   "source": []
  }
 ],
 "metadata": {
  "kernelspec": {
   "display_name": "Python 3",
   "language": "python",
   "name": "python3"
  },
  "language_info": {
   "codemirror_mode": {
    "name": "ipython",
    "version": 3
   },
   "file_extension": ".py",
   "mimetype": "text/x-python",
   "name": "python",
   "nbconvert_exporter": "python",
   "pygments_lexer": "ipython3",
   "version": "3.5.3"
  }
 },
 "nbformat": 4,
 "nbformat_minor": 2
}
